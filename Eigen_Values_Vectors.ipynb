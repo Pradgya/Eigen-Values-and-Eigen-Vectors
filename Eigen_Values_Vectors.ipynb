{
  "nbformat": 4,
  "nbformat_minor": 0,
  "metadata": {
    "colab": {
      "name": "Eigen_Values_Vectors.ipynb",
      "provenance": [],
      "collapsed_sections": []
    },
    "kernelspec": {
      "name": "python3",
      "display_name": "Python 3"
    },
    "language_info": {
      "name": "python"
    }
  },
  "cells": [
    {
      "cell_type": "markdown",
      "metadata": {
        "id": "LzI6wa2p0Di7"
      },
      "source": [
        "**Performing matrix multiplication and finding eigen vectors and eigen values using TensorFlow**"
      ]
    },
    {
      "cell_type": "markdown",
      "metadata": {
        "id": "PhEj30WIxcZ5"
      },
      "source": [
        "Computing the eigenvalues and right eigenvectors of a given square array using NumPy library."
      ]
    },
    {
      "cell_type": "code",
      "metadata": {
        "colab": {
          "base_uri": "https://localhost:8080/"
        },
        "id": "dFZM_4BJxf0_",
        "outputId": "fbbf05a2-5712-4dec-9010-fe4ef2957220"
      },
      "source": [
        "# importing numpy library\n",
        "import numpy as np\n",
        "\n",
        "# create numpy 2d-array\n",
        "m = np.array([[0, 1],\n",
        "\t\t\t[-2, -3]])\n",
        "\n",
        "print(\"Printing the Original square array:\\n\",m)\n",
        "print()\n",
        "print('***************************************')\n",
        "print()\n",
        "# finding eigenvalues and eigenvectors\n",
        "w, v = np.linalg.eig(m)\n",
        "\n",
        "# printing eigen values\n",
        "print(\"Printing the Eigen values of the given square array:\\n\",w)\n",
        "print()\n",
        "# printing eigen vectors\n",
        "print(\"Printing Right Eigen Vectors of the given square array:\\n\",v)\n"
      ],
      "execution_count": null,
      "outputs": [
        {
          "output_type": "stream",
          "text": [
            "Printing the Original square array:\n",
            " [[ 0  1]\n",
            " [-2 -3]]\n",
            "\n",
            "***************************************\n",
            "\n",
            "Printing the Eigen values of the given square array:\n",
            " [-1. -2.]\n",
            "\n",
            "Printing Right Eigen Vectors of the given square array:\n",
            " [[ 0.70710678 -0.4472136 ]\n",
            " [-0.70710678  0.89442719]]\n"
          ],
          "name": "stdout"
        }
      ]
    },
    {
      "cell_type": "code",
      "metadata": {
        "colab": {
          "base_uri": "https://localhost:8080/"
        },
        "id": "7jLhbkVgxuIU",
        "outputId": "cd88856b-19d5-46f4-fb54-6d2b55d76991"
      },
      "source": [
        "# importing numpy library\n",
        "import numpy as np\n",
        "\n",
        "# create numpy 2d-array\n",
        "m = np.array([[1, 2, 3],\n",
        "\t\t\t[2, 3, 4],\n",
        "\t\t\t[4, 5, 6]])\n",
        "\n",
        "print(\"Printing the Original square array:\\n\",m)\n",
        "print()\n",
        "print('***************************************')\n",
        "print()\n",
        "\n",
        "# finding eigenvalues and eigenvectors\n",
        "w, v = np.linalg.eig(m)\n",
        "\n",
        "# printing eigen values\n",
        "print(\"Printing the Eigen values of the given square array:\\n\",w)\n",
        "print()\n",
        "# printing eigen vectors\n",
        "print(\"Printing Right eigenvectors of the given square array:\\n\",v)\n"
      ],
      "execution_count": null,
      "outputs": [
        {
          "output_type": "stream",
          "text": [
            "Printing the Original square array:\n",
            " [[1 2 3]\n",
            " [2 3 4]\n",
            " [4 5 6]]\n",
            "\n",
            "***************************************\n",
            "\n",
            "Printing the Eigen values of the given square array:\n",
            " [ 1.08309519e+01 -8.30951895e-01 -1.24701000e-16]\n",
            "\n",
            "Printing Right eigenvectors of the given square array:\n",
            " [[ 0.34416959  0.72770285  0.40824829]\n",
            " [ 0.49532111  0.27580256 -0.81649658]\n",
            " [ 0.79762415 -0.62799801  0.40824829]]\n"
          ],
          "name": "stdout"
        }
      ]
    },
    {
      "cell_type": "markdown",
      "metadata": {
        "id": "0OHcdTZQA3mh"
      },
      "source": [
        "Computing the eigenvalues and right eigenvectors of a given square array using Tensorflow."
      ]
    },
    {
      "cell_type": "code",
      "metadata": {
        "id": "lkspdWndzRdz"
      },
      "source": [
        "import tensorflow as tf"
      ],
      "execution_count": null,
      "outputs": []
    },
    {
      "cell_type": "code",
      "metadata": {
        "colab": {
          "base_uri": "https://localhost:8080/"
        },
        "id": "w3cO6bxo0af8",
        "outputId": "011c72ba-27dd-465a-fa87-05136f7e82cb"
      },
      "source": [
        "# Let's see how we can compute the eigen vectors and values from a matrix\n",
        "\n",
        "e_matrix_A = tf.random.uniform([2, 2], minval=3, maxval=10, dtype=tf.float32, name=\"matrixA\")\n",
        "\n",
        "print(\"Matrix A: \\n{}\\n\\n\".format(e_matrix_A))"
      ],
      "execution_count": null,
      "outputs": [
        {
          "output_type": "stream",
          "text": [
            "Matrix A: \n",
            "[[9.116089 6.260758]\n",
            " [7.916345 8.771866]]\n",
            "\n",
            "\n"
          ],
          "name": "stdout"
        }
      ]
    },
    {
      "cell_type": "code",
      "metadata": {
        "colab": {
          "base_uri": "https://localhost:8080/"
        },
        "id": "veC44fYd0gE4",
        "outputId": "6509c9da-69f9-4018-e5f6-267ab3cab5c0"
      },
      "source": [
        "# Calculating the eigen values and vectors using tf.linalg.eigh, if you only want the values you can use eigvalsh\n",
        "\n",
        "eigen_values_A, eigen_vectors_A = tf.linalg.eigh(e_matrix_A)\n",
        "\n",
        "print(\"Eigen Vectors: \\n{} \\n\\nEigen Values: \\n{}\\n\".format(eigen_vectors_A, eigen_values_A))"
      ],
      "execution_count": null,
      "outputs": [
        {
          "output_type": "stream",
          "text": [
            "Eigen Vectors: \n",
            "[[-0.6993797   0.71475035]\n",
            " [ 0.71475035  0.6993797 ]] \n",
            "\n",
            "Eigen Values: \n",
            "[ 1.0257617 16.862194 ]\n",
            "\n"
          ],
          "name": "stdout"
        }
      ]
    },
    {
      "cell_type": "code",
      "metadata": {
        "colab": {
          "base_uri": "https://localhost:8080/"
        },
        "id": "qAnp92WZ0qPk",
        "outputId": "53f1d718-7762-4f14-a732-ed0f041f5bea"
      },
      "source": [
        "# Let's see how we can compute the eigen vectors and values from a matrix\n",
        "\n",
        "e_matrix_A = tf.random.uniform([3, 3], minval=3, maxval=10, dtype=tf.float32, name=\"matrixA\")\n",
        "\n",
        "print(\"Matrix A: \\n{}\\n\\n\".format(e_matrix_A))"
      ],
      "execution_count": null,
      "outputs": [
        {
          "output_type": "stream",
          "text": [
            "Matrix A: \n",
            "[[7.5458817 4.3033495 5.2567573]\n",
            " [4.974057  3.6268468 9.713013 ]\n",
            " [5.0875545 3.1186485 6.895154 ]]\n",
            "\n",
            "\n"
          ],
          "name": "stdout"
        }
      ]
    },
    {
      "cell_type": "code",
      "metadata": {
        "colab": {
          "base_uri": "https://localhost:8080/"
        },
        "id": "y1VpeSaE07oo",
        "outputId": "62c8c6ab-5c7e-400c-ac6e-9069c696936f"
      },
      "source": [
        "# Calculating the eigen values and vectors using tf.linalg.eigh, if you only want the values you can use eigvalsh\n",
        "\n",
        "eigen_values_A, eigen_vectors_A = tf.linalg.eigh(e_matrix_A)\n",
        "\n",
        "print(\"Eigen Vectors: \\n{} \\n\\nEigen Values: \\n{}\\n\".format(eigen_vectors_A, eigen_values_A))"
      ],
      "execution_count": null,
      "outputs": [
        {
          "output_type": "stream",
          "text": [
            "Eigen Vectors: \n",
            "[[ 0.59897846 -0.42632568  0.67784315]\n",
            " [-0.7963012  -0.40637407  0.44806755]\n",
            " [-0.08443513  0.80815005  0.582893  ]] \n",
            "\n",
            "Eigen Values: \n",
            "[ 0.21604107  2.6431053  15.208745  ]\n",
            "\n"
          ],
          "name": "stdout"
        }
      ]
    },
    {
      "cell_type": "code",
      "metadata": {
        "id": "SSpLmnfj0-yM"
      },
      "source": [
        ""
      ],
      "execution_count": null,
      "outputs": []
    }
  ]
}